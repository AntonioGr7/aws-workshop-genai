{
 "cells": [
  {
   "cell_type": "markdown",
   "metadata": {},
   "source": [
    "## AWS Client Setup\n",
    "Installa la AWS CLI scaricandola da questo url: https://docs.aws.amazon.com/cli/latest/userguide/getting-started-install.html#getting-started-install-instructions\n",
    "\n",
    "Una volta installata, incolla le informazioni dalla Command line or programmatic access nella folder .aws nel profilo utente di sistema.\n",
    "\n",
    "Nel file config\n",
    "```json\n",
    "[username]\n",
    "region = us-west-2\n",
    "output = json\n",
    "```\n",
    "\n",
    "Nel file credential inserire le informazioni in questo formato:\n",
    "\n",
    "```json\n",
    "[username]\n",
    "aws_access_key_id=\n",
    "aws_secret_access_key=\n",
    "aws_session_token=\n",
    "```"
   ]
  },
  {
   "cell_type": "code",
   "execution_count": null,
   "metadata": {},
   "outputs": [],
   "source": [
    "import os\n",
    "from utils import bedrock\n",
    "from langchain.llms import Bedrock\n",
    "import pickle\n",
    "\n",
    "\n",
    "os.environ[\"AWS_DEFAULT_REGION\"] = \"us-west-2\"  # E.g. \"us-east-1\"\n",
    "os.environ[\"AWS_PROFILE\"] = \"[]\"\n",
    "\n",
    "bedrock_runtime = bedrock.get_bedrock_client(\n",
    "    assumed_role=os.environ.get(\"BEDROCK_ASSUME_ROLE\", None),\n",
    "    region=os.environ.get(\"AWS_DEFAULT_REGION\", None),\n",
    "    runtime=True\n",
    ")\n",
    "\n",
    "model = Bedrock(\n",
    "    model_id=\"anthropic.claude-v2\", \n",
    "    client=bedrock_runtime,\n",
    "    model_kwargs={'temperature': 0.8,\"max_tokens_to_sample\": 1000}\n",
    "    )"
   ]
  },
  {
   "cell_type": "markdown",
   "metadata": {},
   "source": [
    "# AWS Client Setup [AWS LAB]"
   ]
  },
  {
   "cell_type": "code",
   "execution_count": null,
   "metadata": {},
   "outputs": [],
   "source": [
    "import json\n",
    "import os\n",
    "import sys\n",
    "import pickle\n",
    "\n",
    "from langchain.llms import Bedrock\n",
    "from utils import bedrock\n",
    "\n",
    "bedrock_runtime = bedrock.get_bedrock_client(\n",
    "    assumed_role=os.environ.get(\"BEDROCK_ASSUME_ROLE\", None),\n",
    "    region=os.environ.get(\"AWS_DEFAULT_REGION\", None),\n",
    "    runtime=True\n",
    ")\n",
    "\n",
    "model = Bedrock(\n",
    "    model_id=\"anthropic.claude-v2\", \n",
    "    client=bedrock_runtime,\n",
    "    model_kwargs={'temperature': 0.5}\n",
    "    )"
   ]
  },
  {
   "cell_type": "markdown",
   "metadata": {},
   "source": [
    "# Articoli su Attori famosi\n",
    "Immaginiamo di essere un critico cinematografico che scrive per un blog che ogni giorno raccoglie il compleanno di attori famosi che cadono quel giorno. Prende la sua bio e ne scrive un articolo. Proviamo a velocizzare il suo lavoro!\n",
    "\n",
    "## Se non volete iscrivervi e settare le API potete saltare questa parte. Ho preparato dei pickle per voi direttamente leggibili dal disco. "
   ]
  },
  {
   "cell_type": "code",
   "execution_count": null,
   "metadata": {},
   "outputs": [],
   "source": [
    "rapid_api_key = \"\""
   ]
  },
  {
   "cell_type": "markdown",
   "metadata": {},
   "source": [
    "Recuperiamo le informazioni attraverso le API di imdb fruibili tramite \"RapidAPI\""
   ]
  },
  {
   "cell_type": "code",
   "execution_count": null,
   "metadata": {},
   "outputs": [],
   "source": [
    "import requests\n",
    "\n",
    "def get_bio(name):\n",
    "    url = \"https://imdb8.p.rapidapi.com/actors/get-bio\"\n",
    "    querystring = {\"nconst\":name}\n",
    "\n",
    "    headers = {\n",
    "        \"X-RapidAPI-Key\": rapid_api_key,\n",
    "        \"X-RapidAPI-Host\": \"imdb8.p.rapidapi.com\"\n",
    "    }\n",
    "\n",
    "    response = requests.get(url, headers=headers, params=querystring)\n",
    "    return response.json()\n",
    "\n",
    "def get_filmography(name):\n",
    "    url = \"https://imdb8.p.rapidapi.com/actors/get-all-filmography\"\n",
    "\n",
    "    querystring = {\"nconst\":name}\n",
    "\n",
    "    headers = {\n",
    "        \"X-RapidAPI-Key\": rapid_api_key,\n",
    "        \"X-RapidAPI-Host\": \"imdb8.p.rapidapi.com\"\n",
    "    }\n",
    "\n",
    "    response = requests.get(url, headers=headers, params=querystring)\n",
    "    names = response.json()\n",
    "    return names\n",
    "    \n",
    "def get_born_today(month,day):\n",
    "    url = \"https://imdb8.p.rapidapi.com/actors/list-born-today\"\n",
    "    querystring = {\"month\":month,\"day\":day}\n",
    "\n",
    "    headers = {\n",
    "        \"X-RapidAPI-Key\": rapid_api_key,\n",
    "        \"X-RapidAPI-Host\": \"imdb8.p.rapidapi.com\"\n",
    "    }\n",
    "\n",
    "    response = requests.get(url, headers=headers, params=querystring)\n",
    "    list_of_names = response.json()\n",
    "    names = []\n",
    "    for name in list_of_names[0:3]:\n",
    "        r = get_bio(name.split(\"name/\")[1])\n",
    "        #r = get_filmography(name.split(\"name/\")[1])\n",
    "        names.append(r)\n",
    "    return names"
   ]
  },
  {
   "cell_type": "code",
   "execution_count": null,
   "metadata": {},
   "outputs": [],
   "source": [
    "month = 7\n",
    "day = 2\n",
    "response = get_born_today(month=month,day=day)"
   ]
  },
  {
   "cell_type": "code",
   "execution_count": null,
   "metadata": {},
   "outputs": [],
   "source": [
    "'''with open('data/2_7.pickle', 'wb') as handle:\n",
    "    pickle.dump(response, handle, protocol=pickle.HIGHEST_PROTOCOL)'''"
   ]
  },
  {
   "cell_type": "markdown",
   "metadata": {},
   "source": [
    "### Se non vuoi agganciare la tua key di RAPID puoi caricare i pickle da qua e continuare"
   ]
  },
  {
   "cell_type": "code",
   "execution_count": null,
   "metadata": {},
   "outputs": [],
   "source": [
    "with open('data/2_7.pickle', 'rb') as handle:\n",
    "    response = pickle.load(handle)"
   ]
  },
  {
   "cell_type": "code",
   "execution_count": null,
   "metadata": {},
   "outputs": [],
   "source": [
    "response"
   ]
  },
  {
   "cell_type": "markdown",
   "metadata": {},
   "source": [
    "## Costruiamo il nostro prompt\n",
    "\n",
    "Sfruttiamo anche l'integrazione con Wikipedia per raccogliere più informazioni"
   ]
  },
  {
   "cell_type": "code",
   "execution_count": null,
   "metadata": {},
   "outputs": [],
   "source": [
    "from langchain.prompts import (\n",
    "    ChatPromptTemplate\n",
    ")\n",
    "from PIL import Image\n",
    "import urllib\n",
    "import matplotlib.pyplot as plt\n",
    "from langchain.tools import WikipediaQueryRun\n",
    "from langchain_community.utilities import WikipediaAPIWrapper\n",
    "\n",
    "wikipedia = WikipediaQueryRun(api_wrapper=WikipediaAPIWrapper())\n",
    "\n",
    "wikipedia_info = wikipedia.run(response[0]['name'])"
   ]
  },
  {
   "cell_type": "code",
   "execution_count": null,
   "metadata": {},
   "outputs": [],
   "source": [
    "wikipedia_info"
   ]
  },
  {
   "cell_type": "code",
   "execution_count": null,
   "metadata": {},
   "outputs": [],
   "source": [
    "prompt = \"\"\"\"You're a film critic who writes articles about actors whose birthday is today. Use the information provided to write an article in the style indicated.\"\n",
    "Actor: {actor}\n",
    "Nicknames: {nicknames}\n",
    "Bio: {bio}\n",
    "gender: {gender}\n",
    "birth place: {birth_place}\n",
    "birth data: {birth_date}\n",
    "Use also this information taken from wikipedia about the actor: \n",
    "{wikipedia}\n",
    "\"\"\"\n",
    "\n",
    "messages = [\n",
    "            (\"system\", prompt),\n",
    "            (\"human\", \"Write a long article that should go on the film critic's blog to celebrate the actor's birthday by remembering him. The article must have a title and a body\")\n",
    "        ]\n",
    "\n",
    "prompt = ChatPromptTemplate.from_messages(messages=messages)\n",
    "chain = prompt | model"
   ]
  },
  {
   "cell_type": "code",
   "execution_count": null,
   "metadata": {},
   "outputs": [],
   "source": [
    "actor = response[0]['name']\n",
    "if \"nicknames\" in response[0]:\n",
    "    nicknames = \";\".join(response[0]['nicknames'])\n",
    "else:\n",
    "    nicknames = \" Not found\"\n",
    "gender = response[0]['gender']\n",
    "bio = response[0]['miniBios'][0]['text']\n",
    "birth_place=response[0]['birthPlace']\n",
    "birth_date = response[0]['birthDate']"
   ]
  },
  {
   "cell_type": "code",
   "execution_count": null,
   "metadata": {},
   "outputs": [],
   "source": [
    "articles = chain.invoke({\n",
    "    \"actor\":actor,\n",
    "    \"nicknames\":nicknames,\n",
    "    \"bio\":bio,\n",
    "    \"gender\": gender,\n",
    "    \"birth_place\": birth_place,\n",
    "    \"birth_date\": birth_date,\n",
    "    \"wikipedia\":wikipedia_info\n",
    "})"
   ]
  },
  {
   "cell_type": "code",
   "execution_count": null,
   "metadata": {},
   "outputs": [],
   "source": [
    "img = Image.open(urllib.request.urlopen(response[0]['image']['url']))\n",
    "plotimg = plt.imshow(img)\n",
    "\n",
    "print(articles)"
   ]
  },
  {
   "cell_type": "markdown",
   "metadata": {},
   "source": [
    "# Scegliamo lo stile, il tono e la lunghezza"
   ]
  },
  {
   "cell_type": "code",
   "execution_count": null,
   "metadata": {},
   "outputs": [],
   "source": [
    "tone_and_style_list = [\"motivational\",\"inspirational\",\"informative\",\"humorous\",\"casual\",\"serious\"]\n",
    "length_list = [\"short\",\"medium\",\"long\"]\n",
    "readability_list = [\"easy\",\"intermediate\",\"complex\"]\n"
   ]
  },
  {
   "cell_type": "code",
   "execution_count": null,
   "metadata": {},
   "outputs": [],
   "source": [
    "tone = tone_and_style_list[2]\n",
    "length = length_list[2]\n",
    "readability = readability_list[2]\n",
    "\n",
    "tone,length,readability"
   ]
  },
  {
   "cell_type": "code",
   "execution_count": null,
   "metadata": {},
   "outputs": [],
   "source": [
    "prompt = \"\"\"\"You're an expert Chief Editor that review, correct and rewrite article. Based on the following styles:\"\n",
    "Tone and Style: {tone}\n",
    "Readability: {readability}\n",
    "The article must be {length} in length\n",
    "\"\"\"\n",
    "\n",
    "messages = [\n",
    "            (\"system\", prompt),\n",
    "            (\"human\", \"Review, correct and rewrite the article: {article}\")\n",
    "        ]\n",
    "\n",
    "prompt = ChatPromptTemplate.from_messages(messages=messages)\n",
    "chain = prompt | model"
   ]
  },
  {
   "cell_type": "code",
   "execution_count": null,
   "metadata": {},
   "outputs": [],
   "source": [
    "chief_articles = chain.invoke({\n",
    "    \"tone\":tone,\n",
    "    \"length\":length,\n",
    "    \"readability\":readability,\n",
    "    \"article\": articles\n",
    "})"
   ]
  },
  {
   "cell_type": "code",
   "execution_count": null,
   "metadata": {},
   "outputs": [],
   "source": [
    "print(chief_articles)"
   ]
  }
 ],
 "metadata": {
  "kernelspec": {
   "display_name": ".venv",
   "language": "python",
   "name": "python3"
  },
  "language_info": {
   "codemirror_mode": {
    "name": "ipython",
    "version": 3
   },
   "file_extension": ".py",
   "mimetype": "text/x-python",
   "name": "python",
   "nbconvert_exporter": "python",
   "pygments_lexer": "ipython3",
   "version": "3.11.7"
  }
 },
 "nbformat": 4,
 "nbformat_minor": 2
}
